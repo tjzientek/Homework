{
 "cells": [
  {
   "cell_type": "code",
   "execution_count": 1,
   "metadata": {},
   "outputs": [],
   "source": [
    "# Dependencies\n",
    "from bs4 import BeautifulSoup as bs\n",
    "import pandas as pd\n",
    "import requests\n",
    "from splinter import Browser"
   ]
  },
  {
   "cell_type": "code",
   "execution_count": 2,
   "metadata": {},
   "outputs": [],
   "source": [
    "# Setup the browser for scraping\n",
    "executable_path = {'executable_path': '/usr/local/bin/chromedriver'}\n",
    "browser = Browser('chrome', **executable_path, headless=False)"
   ]
  },
  {
   "cell_type": "code",
   "execution_count": 3,
   "metadata": {},
   "outputs": [],
   "source": [
    "# Get the latest Mars news\n",
    "url = 'https://mars.nasa.gov/news/'\n",
    "browser.visit(url)\n",
    "html = browser.html\n",
    "soup = bs(html, 'lxml')\n",
    "results = soup.find_all('div', class_='list_text')\n",
    "result = results[0]\n",
    "\n",
    "news = result.find('div', class_='content_title')\n",
    "news_title = news.a.text\n",
    "news_para = result.find('div', class_='article_teaser_body')\n",
    "news_para2 = news_para.text.split(\"\\n\")\n",
    "news_desc = news_para2[0]\n",
    "    \n",
    "#print(\"Title: \" + news_title)\n",
    "#print(\"Description: \" + news_desc)"
   ]
  },
  {
   "cell_type": "code",
   "execution_count": 4,
   "metadata": {},
   "outputs": [],
   "source": [
    "# Get the JPL Mars Space Featured Image\n",
    "url = 'https://www.jpl.nasa.gov/spaceimages/?search=&category=Mars'\n",
    "browser.visit(url)\n",
    "\n",
    "html = browser.html\n",
    "soup = bs(html, 'lxml')\n",
    "\n",
    "featured_image_url = \"\"\n",
    "\n",
    "articles = soup.find_all('article', class_='carousel_item')\n",
    "\n",
    "for article in articles:\n",
    "    link = article.find('a')\n",
    "    href = link['data-fancybox-href']\n",
    "    featured_image_url = 'https://www.jpl.nasa.gov/' + href\n",
    "    featured_image_title = link['data-title']\n",
    "\n",
    "#    print(featured_image_title)\n",
    "#    print(featured_image_url)"
   ]
  },
  {
   "cell_type": "code",
   "execution_count": 5,
   "metadata": {},
   "outputs": [],
   "source": [
    "# Get the latest Mars Weather Report from twitter\n",
    "mars_weather = \"\"\n",
    "url = \"https://twitter.com/marswxreport?lang=en\"\n",
    "browser.visit(url)\n",
    "\n",
    "html = browser.html\n",
    "soup = bs(html, \"lxml\")\n",
    "\n",
    "tweets = soup.find_all('p', class_='tweet-text')\n",
    "\n",
    "for tweet in tweets:\n",
    "    tweettext = tweet.text\n",
    "    if (\"Sol \" in tweettext):\n",
    "        mars_weather = tweettext\n",
    "        break\n",
    "        \n",
    "#print(mars_weather)"
   ]
  },
  {
   "cell_type": "code",
   "execution_count": 6,
   "metadata": {},
   "outputs": [],
   "source": [
    "# Get some Mars Facts\n",
    "url = \"http://space-facts.com/mars\"\n",
    "\n",
    "tables = pd.read_html(url)\n",
    "df = tables[0]\n",
    "df.columns = ['description','value']\n",
    "\n",
    "mars_facts = df.to_dict()\n",
    "#print(mars_facts)"
   ]
  },
  {
   "cell_type": "code",
   "execution_count": 7,
   "metadata": {},
   "outputs": [],
   "source": [
    "# Covert Mars Facts to an HTML table string\n",
    "df.set_index('description', inplace=True)\n",
    "mars_facts_table = df.to_html()\n",
    "#print(mars_facts_table)"
   ]
  },
  {
   "cell_type": "code",
   "execution_count": 8,
   "metadata": {},
   "outputs": [],
   "source": [
    "# Collecting Mars Hemisphere Links\n",
    "url = 'https://astrogeology.usgs.gov/search/results?q=hemisphere+enhanced&k1=target&v1=Mars'\n",
    "browser.visit(url)\n",
    "\n",
    "html = browser.html\n",
    "soup = bs(html, 'lxml')\n",
    "\n",
    "links = soup.find_all('a', class_='itemLink product-item')\n",
    "hemisphere_image_urls = []\n",
    "\n",
    "for link in links:\n",
    "    href = link['href']\n",
    "    product_url = 'https://astrogeology.usgs.gov' + href\n",
    "    title = link.find('h3')\n",
    "    if (title):\n",
    "        browser.visit(product_url)\n",
    "        html = browser.html\n",
    "        soup = bs(html, \"lxml\")\n",
    "        downloads = soup.find('div', class_='downloads')\n",
    "        imgLinks = downloads.find_all('a')\n",
    "        for img in imgLinks:\n",
    "            if (img.text == \"Original\"):\n",
    "                img_url = img.get('href')\n",
    "                hemisphere_image_urls.append({'title': title.text, 'img_url': img_url})\n",
    "\n",
    "#print(hemisphere_image_urls)"
   ]
  },
  {
   "cell_type": "code",
   "execution_count": 11,
   "metadata": {},
   "outputs": [],
   "source": [
    "# Save all scraped data to one dictionary\n",
    "mars = {'news_title': news_title, 'news_desc': news_desc, 'featured_image_title': featured_image_title, \\\n",
    "           'featured_image_url': featured_image_url, 'mars_weather': mars_weather, 'mars_facts_table': mars_facts_table, \\\n",
    "           'hemisphere_image_urls': [hemisphere_image_urls]}"
   ]
  },
  {
   "cell_type": "code",
   "execution_count": null,
   "metadata": {},
   "outputs": [],
   "source": []
  },
  {
   "cell_type": "code",
   "execution_count": null,
   "metadata": {},
   "outputs": [],
   "source": []
  }
 ],
 "metadata": {
  "kernelspec": {
   "display_name": "Python 3",
   "language": "python",
   "name": "python3"
  },
  "language_info": {
   "codemirror_mode": {
    "name": "ipython",
    "version": 3
   },
   "file_extension": ".py",
   "mimetype": "text/x-python",
   "name": "python",
   "nbconvert_exporter": "python",
   "pygments_lexer": "ipython3",
   "version": "3.6.4"
  }
 },
 "nbformat": 4,
 "nbformat_minor": 2
}
